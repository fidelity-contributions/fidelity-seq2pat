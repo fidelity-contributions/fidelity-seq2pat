{
 "cells": [
  {
   "cell_type": "markdown",
   "metadata": {},
   "source": [
    "# Dichotomic Pattern Mining (DPM)"
   ]
  },
  {
   "cell_type": "code",
   "execution_count": null,
   "metadata": {},
   "outputs": [],
   "source": [
    "import pandas as pd\n",
    "from ast import literal_eval\n",
    "from time import time\n",
    "\n",
    "from sequential.seq2pat import Seq2Pat, Attribute\n",
    "from sequential.dpm import dichotomic_pattern_mining, get_one_hot_encodings, DichotomicAggregation"
   ]
  },
  {
   "cell_type": "markdown",
   "metadata": {},
   "source": [
    "## Arguments"
   ]
  },
  {
   "cell_type": "code",
   "execution_count": null,
   "metadata": {},
   "outputs": [],
   "source": [
    "args = {}\n",
    "args['data'] = '../tests/data/sample_data.csv'\n",
    "args['min_frequency_pos'] = 0.3\n",
    "args['min_frequency_neg'] = 0.3"
   ]
  },
  {
   "cell_type": "markdown",
   "metadata": {},
   "source": [
    "## Sample Data"
   ]
  },
  {
   "cell_type": "code",
   "execution_count": null,
   "metadata": {},
   "outputs": [],
   "source": [
    "sequence_df = pd.read_csv(args['data'])\n",
    "sequence_df.head()"
   ]
  },
  {
   "cell_type": "markdown",
   "metadata": {
    "pycharm": {
     "name": "#%% md\n"
    }
   },
   "source": [
    "### Transform sequence from string to list"
   ]
  },
  {
   "cell_type": "code",
   "execution_count": null,
   "metadata": {},
   "outputs": [],
   "source": [
    "literal_columns = ['event_sequence', 'event_time', 'event_order']\n",
    "\n",
    "for column in literal_columns:\n",
    "    sequence_df[column] = sequence_df[column].apply(literal_eval)\n",
    "\n",
    "# Input lists\n",
    "sequences = sequence_df['event_sequence'].values.tolist()\n",
    "times = sequence_df['event_time'].values.tolist()\n",
    "orders = sequence_df['event_order'].values.tolist()"
   ]
  },
  {
   "cell_type": "markdown",
   "metadata": {
    "pycharm": {
     "name": "#%% md\n"
    }
   },
   "source": [
    "## Data Exploration"
   ]
  },
  {
   "cell_type": "code",
   "execution_count": null,
   "metadata": {},
   "outputs": [],
   "source": [
    "# EDA for items, max length, average length, number of positive and negative\n",
    "num_sequences = len(sequence_df)\n",
    "max_len = sequence_df['event_sequence'].apply(len).max()\n",
    "avg_len = sequence_df['event_sequence'].apply(len).mean()\n",
    "num_pos = len(sequence_df[sequence_df['label']==1])\n",
    "\n",
    "print(f'Number of sequences: {num_sequences}')\n",
    "print(f'Maximum length: {max_len}')\n",
    "print(f'Average length: {avg_len}')\n",
    "print(f'Number of positives: {num_pos}; Number of negatives: {num_sequences - num_pos}')"
   ]
  },
  {
   "cell_type": "markdown",
   "metadata": {},
   "source": [
    "## Seq2Pat for Positive Labels\n",
    "- There are two attributes: `event_time` and `event_order`\n",
    "- Constraint 1: to enforce the average event time greater than 20 sec\n",
    "- Constraint 2: to enforce the span of event order less than 10. This is to restrict the length of sequence."
   ]
  },
  {
   "cell_type": "code",
   "execution_count": null,
   "metadata": {},
   "outputs": [],
   "source": [
    "## TODO\n",
    "seq2pat_pos = Seq2Pat(sequences)\n",
    "\n",
    "# Define a constraint on event time, average time >= 20 sec\n",
    "time_attr = Attribute(times)\n",
    "time_ct = 20000 <= time_attr.average()\n",
    "\n",
    "# Define a constraint to restrict sequence length, span of sequence <= 10\n",
    "order_attr = Attribute(orders)\n",
    "order_ct = order_attr.span() <= 10\n",
    "\n",
    "# List of constraints \n",
    "constraints = [time_ct, order_ct]"
   ]
  },
  {
   "cell_type": "markdown",
   "metadata": {},
   "source": [
    "## Seq2Pat for Negative Labels\n",
    "- There are two attributes: `event_time` and `event_order`\n",
    "- Constraint 1: to enforce the average event time greater than 20 sec\n",
    "- Constraint 2: to enforce the span of event order less than 10. This is to restrict the length of sequence."
   ]
  },
  {
   "cell_type": "code",
   "execution_count": null,
   "metadata": {},
   "outputs": [],
   "source": [
    "## TODO\n",
    "seq2pat_neg = Seq2Pat(sequences)\n",
    "\n",
    "# Define a constraint on event time, average time >= 20 sec\n",
    "time = Attribute(times)\n",
    "time_ct = 20000 <= time.average()\n",
    "\n",
    "# Define a constraint to restrict sequence length, span of sequence <= 10\n",
    "order = Attribute(orders)\n",
    "order_ct = order.span() <= 10\n",
    "\n",
    "# List of constraints \n",
    "constraints = [time_ct, order_ct]"
   ]
  },
  {
   "cell_type": "markdown",
   "metadata": {},
   "source": [
    "## Dichotomic Pattern Mining: From Sequences to Patterns"
   ]
  },
  {
   "cell_type": "code",
   "execution_count": null,
   "metadata": {},
   "outputs": [],
   "source": [
    "t = time()\n",
    "aggregation_to_patterns = dichotomic_pattern_mining(seq2pat_pos, seq2pat_neg, \n",
    "                                                    min_frequency_pos=args['min_frequency_pos'], \n",
    "                                                    min_frequency_neg=args['min_frequency_neg'])\n",
    "\n",
    "union_patterns = aggregation_to_patterns[DichotomicAggregation.union]\n",
    "intersection_patterns = aggregation_to_patterns[DichotomicAggregation.intersection]\n",
    "unique_pos_patterns = aggregation_to_patterns[DichotomicAggregation.unique_pos]\n",
    "unique_neg_patterns = aggregation_to_patterns[DichotomicAggregation.unique_neg]\n",
    "\n",
    "print(f'DPM finished! Runtime: {time()-t:.4f} sec')\n",
    "print(f'Number of dpm_patterns with INTERSECTION aggregation: {len(intersection_patterns)}')\n",
    "print(f'Number of dpm_patterns with UNION aggregation: {len(union_patterns)}')\n",
    "print(f'Number of dpm_patterns with UNIQUE_POSITIVE aggregation: {len(unique_pos_patterns)}')\n",
    "print(f'Number of dpm_patterns with UNIQUE_NEGATIVE aggregation: {len(unique_neg_patterns)}')"
   ]
  },
  {
   "cell_type": "markdown",
   "metadata": {},
   "source": [
    "## From Patterns to Encodings"
   ]
  },
  {
   "cell_type": "code",
   "execution_count": null,
   "metadata": {},
   "outputs": [],
   "source": [
    "t = time()\n",
    "\n",
    "for aggregation, patterns in aggregation_to_patterns.items():\n",
    "    print(\"Aggregation: \", aggregation)\n",
    "    \n",
    "    # find one hot encoding of each sequence for each pattern subject to constraints\n",
    "    encodings = get_one_hot_encodings(sequences, patterns, constraints, rolling_window_size=10)\n",
    "    \n",
    "    print(f'Encoding finished! Runtime: {time()-t:.4f} sec')\n",
    "    print(encodings.head())"
   ]
  }
 ],
 "metadata": {
  "kernelspec": {
   "display_name": "Python 3 (ipykernel)",
   "language": "python",
   "name": "python3"
  },
  "language_info": {
   "codemirror_mode": {
    "name": "ipython",
    "version": 3
   },
   "file_extension": ".py",
   "mimetype": "text/x-python",
   "name": "python",
   "nbconvert_exporter": "python",
   "pygments_lexer": "ipython3",
   "version": "3.8.12"
  }
 },
 "nbformat": 4,
 "nbformat_minor": 4
}