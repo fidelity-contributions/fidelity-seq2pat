{
 "cells": [
  {
   "cell_type": "markdown",
   "id": "75f84540",
   "metadata": {},
   "source": [
    "# Batch processing in Seq2Pat"
   ]
  },
  {
   "cell_type": "code",
   "execution_count": 1,
   "id": "5d60b003",
   "metadata": {},
   "outputs": [],
   "source": [
    "import pandas as pd\n",
    "from ast import literal_eval\n",
    "from time import time\n",
    "from IPython.display import display\n",
    "\n",
    "from sequential.seq2pat import Seq2Pat, Attribute\n",
    "from sequential.pat2feat import Pat2Feat\n",
    "from sequential.dpm import dichotomic_pattern_mining, DichotomicAggregation\n",
    "from sequential.utils import read_data"
   ]
  },
  {
   "cell_type": "code",
   "execution_count": 2,
   "id": "9e59414c",
   "metadata": {},
   "outputs": [],
   "source": [
    "args = {}\n",
    "args['data'] = '../tests/data/input.txt'\n",
    "args['attribute1'] = '../tests/data/input_att1.txt'\n",
    "args['attribute2'] = '../tests/data/input_att2.txt'"
   ]
  },
  {
   "cell_type": "code",
   "execution_count": 3,
   "id": "b3a8ebc6",
   "metadata": {},
   "outputs": [
    {
     "name": "stdout",
     "output_type": "stream",
     "text": [
      "Number of sequences:  52619\n"
     ]
    }
   ],
   "source": [
    "# Load Sequences\n",
    "sequences = read_data(args['data']) \n",
    "print(\"Number of sequences: \", len(sequences))\n"
   ]
  },
  {
   "cell_type": "code",
   "execution_count": 4,
   "id": "13d73d40",
   "metadata": {},
   "outputs": [
    {
     "name": "stdout",
     "output_type": "stream",
     "text": [
      "Runtime:  2.762  secs\n",
      "[[10, 11, 1501], [9, 10, 1360], [9, 11, 1287], [1, 11, 1271], [1, 10, 1164], [11, 18, 1086], [1, 2, 1043], [1, 9, 1041], [7, 10, 1033], [7, 11, 1024], [9, 10, 11, 1013], [6, 11, 960], [10, 18, 957], [1, 7, 898], [6, 10, 892], [7, 9, 889], [2, 11, 864], [6, 7, 856], [2, 10, 824], [1, 6, 805], [9, 18, 801], [2, 7, 795], [1, 10, 11, 791], [5, 11, 791], [1, 9, 10, 771], [4, 6, 770], [6, 9, 761], [7, 10, 11, 747], [7, 9, 10, 744], [11, 12, 739]]\n"
     ]
    }
   ],
   "source": [
    "# Run seq2pat on the entire set\n",
    "seq2pat = Seq2Pat(sequences)\n",
    "\n",
    "t = time()\n",
    "patterns_entire_set = seq2pat.get_patterns(.01)\n",
    "print(\"Runtime: \", round((time()-t), 3), \" secs\")\n",
    "\n",
    "print(patterns_entire_set[0:30])"
   ]
  },
  {
   "cell_type": "code",
   "execution_count": 5,
   "id": "9a6c8e83",
   "metadata": {},
   "outputs": [
    {
     "name": "stdout",
     "output_type": "stream",
     "text": [
      "Runtime:  2.95  secs\n",
      "[[10, 11, 1501], [9, 10, 1360], [9, 11, 1287], [1, 11, 1271], [1, 10, 1164], [11, 18, 1086], [1, 2, 1043], [1, 9, 1041], [7, 10, 1033], [7, 11, 1024], [9, 10, 11, 1013], [6, 11, 960], [10, 18, 957], [1, 7, 898], [6, 10, 892], [7, 9, 889], [2, 11, 864], [6, 7, 856], [2, 10, 824], [1, 6, 805], [9, 18, 801], [2, 7, 795], [1, 10, 11, 791], [5, 11, 791], [1, 9, 10, 771], [4, 6, 770], [6, 9, 761], [7, 10, 11, 747], [7, 9, 10, 744], [11, 12, 739]]\n",
      "Patterns mined from entire set and batches are the same:  True\n"
     ]
    }
   ],
   "source": [
    "# When batch_size is not None, Seq2Pat will split the sequences dataset into batches \n",
    "# with each batch having batch_size sequences. Pattern mining with constraints will be applied on\n",
    "# each batch. In the end, patterns mined from all batches are aggregated by their frequencies.\n",
    "#\n",
    "# A few parameters are relevant to batch processing:\n",
    "# - batch_size: Number of sequences in one batch\n",
    "# - n_jobs: Number of processes that are used when mining tasks are applied on batches in parallel. n_jobs=2 by default. If -1 all CPUs are used. If -2, all CPUs but one are used.\n",
    "# - discount_factor: Discount factor is used to reduce the minimum row count (min_frequency) when Seq2Pat is applieon a batch. \n",
    "#                    The value should be a float in the range (0, 1.0). A higher value might result in missing patterns with lower frequencies close to the minimum row count.\n",
    "#                    Discount factor is recommended to be 0.2 (by default) in practices.\n",
    "\n",
    "# Run seq2pat on batches of sequences\n",
    "seq2pat = Seq2Pat(sequences, batch_size=30000, n_jobs=2, discount_factor=0.8)\n",
    "\n",
    "t = time()\n",
    "patterns_batch = seq2pat.get_patterns(.01)\n",
    "print(\"Runtime: \", round((time()-t),2), \" secs\")\n",
    "\n",
    "\n",
    "print(patterns_batch[0:30])\n",
    "\n",
    "print(\"Patterns mined from entire set and batches are the same: \", patterns_entire_set == patterns_batch)"
   ]
  },
  {
   "cell_type": "markdown",
   "id": "ab2de5b9",
   "metadata": {},
   "source": [
    "- The patterns mined by running Seq2Pat on the entire set and batches are the same.\n",
    "\n",
    "- Due to the size of test data is comparatively small, we are not observing an improvement on runtime. We would recommend to run the batch mode for gaining runtime benefits only when data size is large, e.g. at least tens of thousands of sequences, and mining on the entire set takes a long time."
   ]
  }
 ],
 "metadata": {
  "kernelspec": {
   "display_name": "Python 3 (ipykernel)",
   "language": "python",
   "name": "python3"
  },
  "language_info": {
   "codemirror_mode": {
    "name": "ipython",
    "version": 3
   },
   "file_extension": ".py",
   "mimetype": "text/x-python",
   "name": "python",
   "nbconvert_exporter": "python",
   "pygments_lexer": "ipython3",
   "version": "3.8.12"
  }
 },
 "nbformat": 4,
 "nbformat_minor": 5
}
